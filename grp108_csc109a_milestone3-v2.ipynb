{
 "cells": [
  {
   "cell_type": "code",
   "execution_count": 67,
   "metadata": {},
   "outputs": [],
   "source": [
    "import pandas as pd\n",
    "import numpy as np\n",
    "from time import sleep\n",
    "import matplotlib.pyplot as plt\n",
    "import seaborn as sns"
   ]
  },
  {
   "cell_type": "code",
   "execution_count": 68,
   "metadata": {},
   "outputs": [],
   "source": [
    "df = pd.read_csv('approval_rating.csv')\n",
    "\n"
   ]
  },
  {
   "cell_type": "code",
   "execution_count": 69,
   "metadata": {},
   "outputs": [
    {
     "data": {
      "text/html": [
       "<div>\n",
       "<style scoped>\n",
       "    .dataframe tbody tr th:only-of-type {\n",
       "        vertical-align: middle;\n",
       "    }\n",
       "\n",
       "    .dataframe tbody tr th {\n",
       "        vertical-align: top;\n",
       "    }\n",
       "\n",
       "    .dataframe thead th {\n",
       "        text-align: right;\n",
       "    }\n",
       "</style>\n",
       "<table border=\"1\" class=\"dataframe\">\n",
       "  <thead>\n",
       "    <tr style=\"text-align: right;\">\n",
       "      <th></th>\n",
       "      <th>Date</th>\n",
       "      <th>State</th>\n",
       "      <th>replublican_Approval_rating</th>\n",
       "      <th>democratic_approval_rating</th>\n",
       "      <th>Result</th>\n",
       "    </tr>\n",
       "  </thead>\n",
       "  <tbody>\n",
       "    <tr>\n",
       "      <th>0</th>\n",
       "      <td>2020</td>\n",
       "      <td>AL</td>\n",
       "      <td>0.569</td>\n",
       "      <td>0.396</td>\n",
       "      <td>R</td>\n",
       "    </tr>\n",
       "    <tr>\n",
       "      <th>1</th>\n",
       "      <td>2020</td>\n",
       "      <td>AK</td>\n",
       "      <td>0.529</td>\n",
       "      <td>0.445</td>\n",
       "      <td>R</td>\n",
       "    </tr>\n",
       "    <tr>\n",
       "      <th>2</th>\n",
       "      <td>2020</td>\n",
       "      <td>AZ</td>\n",
       "      <td>0.481</td>\n",
       "      <td>0.507</td>\n",
       "      <td>D</td>\n",
       "    </tr>\n",
       "    <tr>\n",
       "      <th>3</th>\n",
       "      <td>2020</td>\n",
       "      <td>AR</td>\n",
       "      <td>0.605</td>\n",
       "      <td>0.378</td>\n",
       "      <td>R</td>\n",
       "    </tr>\n",
       "    <tr>\n",
       "      <th>4</th>\n",
       "      <td>2020</td>\n",
       "      <td>CA</td>\n",
       "      <td>0.341</td>\n",
       "      <td>0.641</td>\n",
       "      <td>D</td>\n",
       "    </tr>\n",
       "    <tr>\n",
       "      <th>...</th>\n",
       "      <td>...</td>\n",
       "      <td>...</td>\n",
       "      <td>...</td>\n",
       "      <td>...</td>\n",
       "      <td>...</td>\n",
       "    </tr>\n",
       "    <tr>\n",
       "      <th>301</th>\n",
       "      <td>2000</td>\n",
       "      <td>VA</td>\n",
       "      <td>0.525</td>\n",
       "      <td>0.445</td>\n",
       "      <td>R</td>\n",
       "    </tr>\n",
       "    <tr>\n",
       "      <th>302</th>\n",
       "      <td>2000</td>\n",
       "      <td>WA</td>\n",
       "      <td>0.446</td>\n",
       "      <td>0.502</td>\n",
       "      <td>D</td>\n",
       "    </tr>\n",
       "    <tr>\n",
       "      <th>303</th>\n",
       "      <td>2000</td>\n",
       "      <td>WV</td>\n",
       "      <td>0.519</td>\n",
       "      <td>0.456</td>\n",
       "      <td>R</td>\n",
       "    </tr>\n",
       "    <tr>\n",
       "      <th>304</th>\n",
       "      <td>2000</td>\n",
       "      <td>WI</td>\n",
       "      <td>0.520</td>\n",
       "      <td>0.479</td>\n",
       "      <td>D</td>\n",
       "    </tr>\n",
       "    <tr>\n",
       "      <th>305</th>\n",
       "      <td>2000</td>\n",
       "      <td>WY</td>\n",
       "      <td>0.678</td>\n",
       "      <td>0.277</td>\n",
       "      <td>R</td>\n",
       "    </tr>\n",
       "  </tbody>\n",
       "</table>\n",
       "<p>306 rows × 5 columns</p>\n",
       "</div>"
      ],
      "text/plain": [
       "     Date State  replublican_Approval_rating  democratic_approval_rating  \\\n",
       "0    2020    AL                        0.569                       0.396   \n",
       "1    2020    AK                        0.529                       0.445   \n",
       "2    2020    AZ                        0.481                       0.507   \n",
       "3    2020    AR                        0.605                       0.378   \n",
       "4    2020    CA                        0.341                       0.641   \n",
       "..    ...   ...                          ...                         ...   \n",
       "301  2000    VA                        0.525                       0.445   \n",
       "302  2000    WA                        0.446                       0.502   \n",
       "303  2000    WV                        0.519                       0.456   \n",
       "304  2000    WI                        0.520                       0.479   \n",
       "305  2000    WY                        0.678                       0.277   \n",
       "\n",
       "    Result  \n",
       "0        R  \n",
       "1        R  \n",
       "2        D  \n",
       "3        R  \n",
       "4        D  \n",
       "..     ...  \n",
       "301      R  \n",
       "302      D  \n",
       "303      R  \n",
       "304      D  \n",
       "305      R  \n",
       "\n",
       "[306 rows x 5 columns]"
      ]
     },
     "metadata": {},
     "output_type": "display_data"
    }
   ],
   "source": [
    "display(df)\n",
    "\n"
   ]
  },
  {
   "cell_type": "code",
   "execution_count": 70,
   "metadata": {},
   "outputs": [],
   "source": [
    "df.columns = ['year', 'state','republican_approval_ratings', 'democratic_approval_ratings','result']\n",
    "\n",
    "\n"
   ]
  },
  {
   "cell_type": "code",
   "execution_count": 71,
   "metadata": {},
   "outputs": [
    {
     "data": {
      "text/html": [
       "<div>\n",
       "<style scoped>\n",
       "    .dataframe tbody tr th:only-of-type {\n",
       "        vertical-align: middle;\n",
       "    }\n",
       "\n",
       "    .dataframe tbody tr th {\n",
       "        vertical-align: top;\n",
       "    }\n",
       "\n",
       "    .dataframe thead th {\n",
       "        text-align: right;\n",
       "    }\n",
       "</style>\n",
       "<table border=\"1\" class=\"dataframe\">\n",
       "  <thead>\n",
       "    <tr style=\"text-align: right;\">\n",
       "      <th></th>\n",
       "      <th>year</th>\n",
       "      <th>state</th>\n",
       "      <th>republican_approval_ratings</th>\n",
       "      <th>democratic_approval_ratings</th>\n",
       "      <th>result</th>\n",
       "    </tr>\n",
       "  </thead>\n",
       "  <tbody>\n",
       "    <tr>\n",
       "      <th>0</th>\n",
       "      <td>2020</td>\n",
       "      <td>AL</td>\n",
       "      <td>0.569</td>\n",
       "      <td>0.396</td>\n",
       "      <td>R</td>\n",
       "    </tr>\n",
       "    <tr>\n",
       "      <th>1</th>\n",
       "      <td>2020</td>\n",
       "      <td>AK</td>\n",
       "      <td>0.529</td>\n",
       "      <td>0.445</td>\n",
       "      <td>R</td>\n",
       "    </tr>\n",
       "    <tr>\n",
       "      <th>2</th>\n",
       "      <td>2020</td>\n",
       "      <td>AZ</td>\n",
       "      <td>0.481</td>\n",
       "      <td>0.507</td>\n",
       "      <td>D</td>\n",
       "    </tr>\n",
       "    <tr>\n",
       "      <th>3</th>\n",
       "      <td>2020</td>\n",
       "      <td>AR</td>\n",
       "      <td>0.605</td>\n",
       "      <td>0.378</td>\n",
       "      <td>R</td>\n",
       "    </tr>\n",
       "    <tr>\n",
       "      <th>4</th>\n",
       "      <td>2020</td>\n",
       "      <td>CA</td>\n",
       "      <td>0.341</td>\n",
       "      <td>0.641</td>\n",
       "      <td>D</td>\n",
       "    </tr>\n",
       "    <tr>\n",
       "      <th>...</th>\n",
       "      <td>...</td>\n",
       "      <td>...</td>\n",
       "      <td>...</td>\n",
       "      <td>...</td>\n",
       "      <td>...</td>\n",
       "    </tr>\n",
       "    <tr>\n",
       "      <th>301</th>\n",
       "      <td>2000</td>\n",
       "      <td>VA</td>\n",
       "      <td>0.525</td>\n",
       "      <td>0.445</td>\n",
       "      <td>R</td>\n",
       "    </tr>\n",
       "    <tr>\n",
       "      <th>302</th>\n",
       "      <td>2000</td>\n",
       "      <td>WA</td>\n",
       "      <td>0.446</td>\n",
       "      <td>0.502</td>\n",
       "      <td>D</td>\n",
       "    </tr>\n",
       "    <tr>\n",
       "      <th>303</th>\n",
       "      <td>2000</td>\n",
       "      <td>WV</td>\n",
       "      <td>0.519</td>\n",
       "      <td>0.456</td>\n",
       "      <td>R</td>\n",
       "    </tr>\n",
       "    <tr>\n",
       "      <th>304</th>\n",
       "      <td>2000</td>\n",
       "      <td>WI</td>\n",
       "      <td>0.520</td>\n",
       "      <td>0.479</td>\n",
       "      <td>D</td>\n",
       "    </tr>\n",
       "    <tr>\n",
       "      <th>305</th>\n",
       "      <td>2000</td>\n",
       "      <td>WY</td>\n",
       "      <td>0.678</td>\n",
       "      <td>0.277</td>\n",
       "      <td>R</td>\n",
       "    </tr>\n",
       "  </tbody>\n",
       "</table>\n",
       "<p>306 rows × 5 columns</p>\n",
       "</div>"
      ],
      "text/plain": [
       "     year state  republican_approval_ratings  democratic_approval_ratings  \\\n",
       "0    2020    AL                        0.569                        0.396   \n",
       "1    2020    AK                        0.529                        0.445   \n",
       "2    2020    AZ                        0.481                        0.507   \n",
       "3    2020    AR                        0.605                        0.378   \n",
       "4    2020    CA                        0.341                        0.641   \n",
       "..    ...   ...                          ...                          ...   \n",
       "301  2000    VA                        0.525                        0.445   \n",
       "302  2000    WA                        0.446                        0.502   \n",
       "303  2000    WV                        0.519                        0.456   \n",
       "304  2000    WI                        0.520                        0.479   \n",
       "305  2000    WY                        0.678                        0.277   \n",
       "\n",
       "    result  \n",
       "0        R  \n",
       "1        R  \n",
       "2        D  \n",
       "3        R  \n",
       "4        D  \n",
       "..     ...  \n",
       "301      R  \n",
       "302      D  \n",
       "303      R  \n",
       "304      D  \n",
       "305      R  \n",
       "\n",
       "[306 rows x 5 columns]"
      ]
     },
     "metadata": {},
     "output_type": "display_data"
    }
   ],
   "source": [
    "display(df)\n",
    "\n",
    "\n",
    "\n"
   ]
  },
  {
   "cell_type": "code",
   "execution_count": 72,
   "metadata": {},
   "outputs": [],
   "source": [
    "## Convert to date format\n",
    "\n",
    "##df['year'] = pd.to_datetime(df['year'], format='%Y')\n",
    "\n",
    "\n"
   ]
  },
  {
   "cell_type": "code",
   "execution_count": 73,
   "metadata": {},
   "outputs": [],
   "source": [
    "## convert  categorical variable into numeri values \n",
    "df['won'] = 1*(df['result']=='D')\n"
   ]
  },
  {
   "cell_type": "code",
   "execution_count": 74,
   "metadata": {},
   "outputs": [
    {
     "data": {
      "text/html": [
       "<div>\n",
       "<style scoped>\n",
       "    .dataframe tbody tr th:only-of-type {\n",
       "        vertical-align: middle;\n",
       "    }\n",
       "\n",
       "    .dataframe tbody tr th {\n",
       "        vertical-align: top;\n",
       "    }\n",
       "\n",
       "    .dataframe thead th {\n",
       "        text-align: right;\n",
       "    }\n",
       "</style>\n",
       "<table border=\"1\" class=\"dataframe\">\n",
       "  <thead>\n",
       "    <tr style=\"text-align: right;\">\n",
       "      <th></th>\n",
       "      <th>year</th>\n",
       "      <th>state</th>\n",
       "      <th>republican_approval_ratings</th>\n",
       "      <th>democratic_approval_ratings</th>\n",
       "      <th>result</th>\n",
       "      <th>won</th>\n",
       "    </tr>\n",
       "  </thead>\n",
       "  <tbody>\n",
       "    <tr>\n",
       "      <th>0</th>\n",
       "      <td>2020</td>\n",
       "      <td>AL</td>\n",
       "      <td>0.569</td>\n",
       "      <td>0.396</td>\n",
       "      <td>R</td>\n",
       "      <td>0</td>\n",
       "    </tr>\n",
       "    <tr>\n",
       "      <th>1</th>\n",
       "      <td>2020</td>\n",
       "      <td>AK</td>\n",
       "      <td>0.529</td>\n",
       "      <td>0.445</td>\n",
       "      <td>R</td>\n",
       "      <td>0</td>\n",
       "    </tr>\n",
       "    <tr>\n",
       "      <th>2</th>\n",
       "      <td>2020</td>\n",
       "      <td>AZ</td>\n",
       "      <td>0.481</td>\n",
       "      <td>0.507</td>\n",
       "      <td>D</td>\n",
       "      <td>1</td>\n",
       "    </tr>\n",
       "    <tr>\n",
       "      <th>3</th>\n",
       "      <td>2020</td>\n",
       "      <td>AR</td>\n",
       "      <td>0.605</td>\n",
       "      <td>0.378</td>\n",
       "      <td>R</td>\n",
       "      <td>0</td>\n",
       "    </tr>\n",
       "    <tr>\n",
       "      <th>4</th>\n",
       "      <td>2020</td>\n",
       "      <td>CA</td>\n",
       "      <td>0.341</td>\n",
       "      <td>0.641</td>\n",
       "      <td>D</td>\n",
       "      <td>1</td>\n",
       "    </tr>\n",
       "    <tr>\n",
       "      <th>...</th>\n",
       "      <td>...</td>\n",
       "      <td>...</td>\n",
       "      <td>...</td>\n",
       "      <td>...</td>\n",
       "      <td>...</td>\n",
       "      <td>...</td>\n",
       "    </tr>\n",
       "    <tr>\n",
       "      <th>301</th>\n",
       "      <td>2000</td>\n",
       "      <td>VA</td>\n",
       "      <td>0.525</td>\n",
       "      <td>0.445</td>\n",
       "      <td>R</td>\n",
       "      <td>0</td>\n",
       "    </tr>\n",
       "    <tr>\n",
       "      <th>302</th>\n",
       "      <td>2000</td>\n",
       "      <td>WA</td>\n",
       "      <td>0.446</td>\n",
       "      <td>0.502</td>\n",
       "      <td>D</td>\n",
       "      <td>1</td>\n",
       "    </tr>\n",
       "    <tr>\n",
       "      <th>303</th>\n",
       "      <td>2000</td>\n",
       "      <td>WV</td>\n",
       "      <td>0.519</td>\n",
       "      <td>0.456</td>\n",
       "      <td>R</td>\n",
       "      <td>0</td>\n",
       "    </tr>\n",
       "    <tr>\n",
       "      <th>304</th>\n",
       "      <td>2000</td>\n",
       "      <td>WI</td>\n",
       "      <td>0.520</td>\n",
       "      <td>0.479</td>\n",
       "      <td>D</td>\n",
       "      <td>1</td>\n",
       "    </tr>\n",
       "    <tr>\n",
       "      <th>305</th>\n",
       "      <td>2000</td>\n",
       "      <td>WY</td>\n",
       "      <td>0.678</td>\n",
       "      <td>0.277</td>\n",
       "      <td>R</td>\n",
       "      <td>0</td>\n",
       "    </tr>\n",
       "  </tbody>\n",
       "</table>\n",
       "<p>306 rows × 6 columns</p>\n",
       "</div>"
      ],
      "text/plain": [
       "     year state  republican_approval_ratings  democratic_approval_ratings  \\\n",
       "0    2020    AL                        0.569                        0.396   \n",
       "1    2020    AK                        0.529                        0.445   \n",
       "2    2020    AZ                        0.481                        0.507   \n",
       "3    2020    AR                        0.605                        0.378   \n",
       "4    2020    CA                        0.341                        0.641   \n",
       "..    ...   ...                          ...                          ...   \n",
       "301  2000    VA                        0.525                        0.445   \n",
       "302  2000    WA                        0.446                        0.502   \n",
       "303  2000    WV                        0.519                        0.456   \n",
       "304  2000    WI                        0.520                        0.479   \n",
       "305  2000    WY                        0.678                        0.277   \n",
       "\n",
       "    result  won  \n",
       "0        R    0  \n",
       "1        R    0  \n",
       "2        D    1  \n",
       "3        R    0  \n",
       "4        D    1  \n",
       "..     ...  ...  \n",
       "301      R    0  \n",
       "302      D    1  \n",
       "303      R    0  \n",
       "304      D    1  \n",
       "305      R    0  \n",
       "\n",
       "[306 rows x 6 columns]"
      ]
     },
     "metadata": {},
     "output_type": "display_data"
    }
   ],
   "source": [
    "display(df)"
   ]
  },
  {
   "cell_type": "code",
   "execution_count": 75,
   "metadata": {},
   "outputs": [
    {
     "data": {
      "text/html": [
       "<div>\n",
       "<style scoped>\n",
       "    .dataframe tbody tr th:only-of-type {\n",
       "        vertical-align: middle;\n",
       "    }\n",
       "\n",
       "    .dataframe tbody tr th {\n",
       "        vertical-align: top;\n",
       "    }\n",
       "\n",
       "    .dataframe thead th {\n",
       "        text-align: right;\n",
       "    }\n",
       "</style>\n",
       "<table border=\"1\" class=\"dataframe\">\n",
       "  <thead>\n",
       "    <tr style=\"text-align: right;\">\n",
       "      <th></th>\n",
       "      <th>republican_approval_ratings</th>\n",
       "      <th>democratic_approval_ratings</th>\n",
       "      <th>won</th>\n",
       "    </tr>\n",
       "  </thead>\n",
       "  <tbody>\n",
       "    <tr>\n",
       "      <th>republican_approval_ratings</th>\n",
       "      <td>1.000000</td>\n",
       "      <td>-0.849138</td>\n",
       "      <td>-0.705196</td>\n",
       "    </tr>\n",
       "    <tr>\n",
       "      <th>democratic_approval_ratings</th>\n",
       "      <td>-0.849138</td>\n",
       "      <td>1.000000</td>\n",
       "      <td>0.725134</td>\n",
       "    </tr>\n",
       "    <tr>\n",
       "      <th>won</th>\n",
       "      <td>-0.705196</td>\n",
       "      <td>0.725134</td>\n",
       "      <td>1.000000</td>\n",
       "    </tr>\n",
       "  </tbody>\n",
       "</table>\n",
       "</div>"
      ],
      "text/plain": [
       "                             republican_approval_ratings  \\\n",
       "republican_approval_ratings                     1.000000   \n",
       "democratic_approval_ratings                    -0.849138   \n",
       "won                                            -0.705196   \n",
       "\n",
       "                             democratic_approval_ratings       won  \n",
       "republican_approval_ratings                    -0.849138 -0.705196  \n",
       "democratic_approval_ratings                     1.000000  0.725134  \n",
       "won                                             0.725134  1.000000  "
      ]
     },
     "execution_count": 75,
     "metadata": {},
     "output_type": "execute_result"
    }
   ],
   "source": [
    "## check correlation..\n",
    "\n",
    "df_cor = df[['republican_approval_ratings','democratic_approval_ratings','won']]\n",
    "\n",
    "df_cor.corr()\n",
    "\n"
   ]
  },
  {
   "cell_type": "code",
   "execution_count": 76,
   "metadata": {},
   "outputs": [
    {
     "data": {
      "text/plain": [
       "Text(0.5, 1.0, 'Election Result VS Republican Approval Ratings')"
      ]
     },
     "execution_count": 76,
     "metadata": {},
     "output_type": "execute_result"
    },
    {
     "data": {
      "image/png": "[encoded data removed]",
      "text/plain": [
       "<Figure size 432x288 with 1 Axes>"
      ]
     },
     "metadata": {
      "needs_background": "light"
     },
     "output_type": "display_data"
    }
   ],
   "source": [
    "## Scatter Plots\n",
    "plt.scatter(df['republican_approval_ratings'],df['won'], color='red')\n",
    "\n",
    "# Add axis labels for clarity (x : TV budget, y : Sales)\n",
    "plt.xlabel(\"Replublican Approval Rating\")\n",
    "plt.ylabel(\"Election Result\")\n",
    "plt.title('Election Result VS Republican Approval Ratings')"
   ]
  },
  {
   "cell_type": "code",
   "execution_count": 77,
   "metadata": {},
   "outputs": [
    {
     "data": {
      "text/plain": [
       "Text(0.5, 1.0, 'Election Result VS Democratic Approval Ratings')"
      ]
     },
     "execution_count": 77,
     "metadata": {},
     "output_type": "execute_result"
    },
    {
     "data": {
      "image/png": "[encoded data removed]",
      "text/plain": [
       "<Figure size 432x288 with 1 Axes>"
      ]
     },
     "metadata": {
      "needs_background": "light"
     },
     "output_type": "display_data"
    }
   ],
   "source": [
    "## Scatter Plots\n",
    "plt.scatter(df['democratic_approval_ratings'],df['won'], color='blue')\n",
    "\n",
    "# Add axis labels for clarity (x : TV budget, y : Sales)\n",
    "plt.xlabel(\"Democratic Approval Rating\")\n",
    "plt.ylabel(\"Election Result\")\n",
    "plt.title('Election Result VS Democratic Approval Ratings')"
   ]
  },
  {
   "cell_type": "code",
   "execution_count": 78,
   "metadata": {},
   "outputs": [
    {
     "data": {
      "text/plain": [
       "<AxesSubplot:xlabel='state', ylabel='republican_approval_ratings'>"
      ]
     },
     "execution_count": 78,
     "metadata": {},
     "output_type": "execute_result"
    },
    {
     "data": {
      "image/png": "[encoded data removed]",
      "text/plain": [
       "<Figure size 2160x864 with 1 Axes>"
      ]
     },
     "metadata": {
      "needs_background": "light"
     },
     "output_type": "display_data"
    }
   ],
   "source": [
    "f, ax = plt.subplots(1,1, figsize=(30, 12))\n",
    "ax.set_ylabel(\"Republican Approval Ratings\")\n",
    "sns.barplot(x=\"state\", y=\"republican_approval_ratings\", data=df, estimator=np.mean, ax=ax)\n",
    "\n"
   ]
  },
  {
   "cell_type": "code",
   "execution_count": 79,
   "metadata": {},
   "outputs": [
    {
     "data": {
      "text/plain": [
       "<AxesSubplot:xlabel='state', ylabel='democratic_approval_ratings'>"
      ]
     },
     "execution_count": 79,
     "metadata": {},
     "output_type": "execute_result"
    },
    {
     "data": {
      "image/png": "[encoded data removed]",
      "text/plain": [
       "<Figure size 2160x864 with 1 Axes>"
      ]
     },
     "metadata": {
      "needs_background": "light"
     },
     "output_type": "display_data"
    }
   ],
   "source": [
    "f, ax = plt.subplots(1,1, figsize=(30, 12))\n",
    "sns.barplot(x=\"state\", y=\"democratic_approval_ratings\", data=df, estimator=np.mean, ax=ax)"
   ]
  },
  {
   "cell_type": "code",
   "execution_count": 118,
   "metadata": {},
   "outputs": [
    {
     "data": {
      "text/html": [
       "<div>\n",
       "<style scoped>\n",
       "    .dataframe tbody tr th:only-of-type {\n",
       "        vertical-align: middle;\n",
       "    }\n",
       "\n",
       "    .dataframe tbody tr th {\n",
       "        vertical-align: top;\n",
       "    }\n",
       "\n",
       "    .dataframe thead th {\n",
       "        text-align: right;\n",
       "    }\n",
       "</style>\n",
       "<table border=\"1\" class=\"dataframe\">\n",
       "  <thead>\n",
       "    <tr style=\"text-align: right;\">\n",
       "      <th></th>\n",
       "      <th>State</th>\n",
       "      <th>Approvals</th>\n",
       "      <th>appproval ratings</th>\n",
       "    </tr>\n",
       "  </thead>\n",
       "  <tbody>\n",
       "    <tr>\n",
       "      <th>0</th>\n",
       "      <td>AL</td>\n",
       "      <td>Democratic Approvals</td>\n",
       "      <td>0.396</td>\n",
       "    </tr>\n",
       "    <tr>\n",
       "      <th>1</th>\n",
       "      <td>AK</td>\n",
       "      <td>Democratic Approvals</td>\n",
       "      <td>0.445</td>\n",
       "    </tr>\n",
       "    <tr>\n",
       "      <th>2</th>\n",
       "      <td>AZ</td>\n",
       "      <td>Democratic Approvals</td>\n",
       "      <td>0.507</td>\n",
       "    </tr>\n",
       "    <tr>\n",
       "      <th>3</th>\n",
       "      <td>AR</td>\n",
       "      <td>Democratic Approvals</td>\n",
       "      <td>0.378</td>\n",
       "    </tr>\n",
       "    <tr>\n",
       "      <th>4</th>\n",
       "      <td>CA</td>\n",
       "      <td>Democratic Approvals</td>\n",
       "      <td>0.641</td>\n",
       "    </tr>\n",
       "    <tr>\n",
       "      <th>...</th>\n",
       "      <td>...</td>\n",
       "      <td>...</td>\n",
       "      <td>...</td>\n",
       "    </tr>\n",
       "    <tr>\n",
       "      <th>607</th>\n",
       "      <td>VA</td>\n",
       "      <td>Republican Approvals</td>\n",
       "      <td>0.525</td>\n",
       "    </tr>\n",
       "    <tr>\n",
       "      <th>608</th>\n",
       "      <td>WA</td>\n",
       "      <td>Republican Approvals</td>\n",
       "      <td>0.446</td>\n",
       "    </tr>\n",
       "    <tr>\n",
       "      <th>609</th>\n",
       "      <td>WV</td>\n",
       "      <td>Republican Approvals</td>\n",
       "      <td>0.519</td>\n",
       "    </tr>\n",
       "    <tr>\n",
       "      <th>610</th>\n",
       "      <td>WI</td>\n",
       "      <td>Republican Approvals</td>\n",
       "      <td>0.520</td>\n",
       "    </tr>\n",
       "    <tr>\n",
       "      <th>611</th>\n",
       "      <td>WY</td>\n",
       "      <td>Republican Approvals</td>\n",
       "      <td>0.678</td>\n",
       "    </tr>\n",
       "  </tbody>\n",
       "</table>\n",
       "<p>612 rows × 3 columns</p>\n",
       "</div>"
      ],
      "text/plain": [
       "    State             Approvals  appproval ratings\n",
       "0      AL  Democratic Approvals              0.396\n",
       "1      AK  Democratic Approvals              0.445\n",
       "2      AZ  Democratic Approvals              0.507\n",
       "3      AR  Democratic Approvals              0.378\n",
       "4      CA  Democratic Approvals              0.641\n",
       "..    ...                   ...                ...\n",
       "607    VA  Republican Approvals              0.525\n",
       "608    WA  Republican Approvals              0.446\n",
       "609    WV  Republican Approvals              0.519\n",
       "610    WI  Republican Approvals              0.520\n",
       "611    WY  Republican Approvals              0.678\n",
       "\n",
       "[612 rows x 3 columns]"
      ]
     },
     "metadata": {},
     "output_type": "display_data"
    },
    {
     "data": {
      "text/plain": [
       "<Figure size 1440x1152 with 0 Axes>"
      ]
     },
     "metadata": {},
     "output_type": "display_data"
    },
    {
     "data": {
      "image/png": "[encoded data removed]",
      "text/plain": [
       "<Figure size 2306x1080 with 1 Axes>"
      ]
     },
     "metadata": {
      "needs_background": "light"
     },
     "output_type": "display_data"
    }
   ],
   "source": [
    "## Number of States won by republicans Year wise\n",
    "\n",
    "df_dd = df[['state','democratic_approval_ratings','republican_approval_ratings']]\n",
    "df_dd.columns = ['State','Democratic Approvals','Republican Approvals']\n",
    "\n",
    "dfs1 = pd.melt(df_dd, id_vars = \"State\", var_name=\"Approvals\", value_name='appproval ratings')\n",
    "\n",
    "display(dfs1)  \n",
    "plt.figure(figsize=(20, 16))\n",
    "with sns.plotting_context(font_scale=10.5):\n",
    "    b= sns.catplot(x = 'State', y='appproval ratings', \n",
    "               hue = 'Approvals',data=dfs1, kind='bar', height=15, aspect=2)\n",
    "\n",
    "#sns.factorplot(\"state\", \"appproval ratings\", col=\"approvals\", data=dfs1, kind=\"bar\")\n",
    "plt.show()            \n",
    "               \n",
    "               "
   ]
  },
  {
   "cell_type": "code",
   "execution_count": null,
   "metadata": {},
   "outputs": [],
   "source": []
  }
 ],
 "metadata": {
  "kernelspec": {
   "display_name": "Python 3",
   "language": "python",
   "name": "python3"
  },
  "language_info": {
   "codemirror_mode": {
    "name": "ipython",
    "version": 3
   },
   "file_extension": ".py",
   "mimetype": "text/x-python",
   "name": "python",
   "nbconvert_exporter": "python",
   "pygments_lexer": "ipython3",
   "version": "3.7.9"
  }
 },
 "nbformat": 4,
 "nbformat_minor": 4
}
