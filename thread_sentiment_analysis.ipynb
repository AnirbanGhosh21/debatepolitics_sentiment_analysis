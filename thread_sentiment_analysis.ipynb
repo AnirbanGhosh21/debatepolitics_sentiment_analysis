{
 "metadata": {
  "language_info": {
   "codemirror_mode": {
    "name": "ipython",
    "version": 3
   },
   "file_extension": ".py",
   "mimetype": "text/x-python",
   "name": "python",
   "nbconvert_exporter": "python",
   "pygments_lexer": "ipython3",
   "version": "3.7.8-final"
  },
  "orig_nbformat": 2,
  "kernelspec": {
   "name": "python3",
   "display_name": "Python 3.7.8 64-bit ('cs109a': conda)",
   "metadata": {
    "interpreter": {
     "hash": "a8329c364f44a091efdb92ea5f7f2984f29f748b54156e79c901c510f05a9ce2"
    }
   }
  }
 },
 "nbformat": 4,
 "nbformat_minor": 2,
 "cells": [
  {
   "cell_type": "code",
   "execution_count": 4,
   "metadata": {},
   "outputs": [],
   "source": [
    "from textblob import TextBlob \n",
    "import pandas as pd \n",
    "import numpy as np \n",
    "import re\n",
    "import matplotlib.pyplot as plt "
   ]
  },
  {
   "cell_type": "code",
   "execution_count": 5,
   "metadata": {},
   "outputs": [],
   "source": [
    "def cleanTxt (text):\n",
    "    text = re.sub(r'\\\\[A-Za-z0-9]+', '', text)\n",
    "    text = re.sub(r'http?:\\/\\/\\S+', '', text)\n",
    "    text = re.sub(r'@[A-Za-z0-9]+', '', text)\n",
    "    text = re.sub(r'[0-9]+', '', text)\n",
    "    text = re.sub(r'/+', '', text)\n",
    "    text = re.sub(r'!+', '', text)\n",
    "    shortword = re.compile(r'\\W*\\b\\w{1,3}\\b')\n",
    "    text = shortword.sub('', text)\n",
    "\n",
    "    return text"
   ]
  },
  {
   "cell_type": "code",
   "execution_count": 6,
   "metadata": {},
   "outputs": [],
   "source": [
    "def getSubjectivity (text):\n",
    "    return TextBlob(text).sentiment.subjectivity\n",
    "\n",
    "def getPolarity (text):\n",
    "    return TextBlob(text).sentiment.polarity"
   ]
  },
  {
   "cell_type": "code",
   "execution_count": 14,
   "metadata": {},
   "outputs": [],
   "source": [
    "file_name = 'normal_opinions.csv'\n",
    "df = pd.read_csv(file_name)\n",
    "\n",
    "df['Content_up'] = df['Content'].apply(str)\n",
    "df['Content_up'] = df['Content_up'].apply(cleanTxt)\n",
    "df['Subjectivity'] = df['Content_up'].apply(getSubjectivity)\n",
    "df['Polarity'] = df['Content_up'].apply(getPolarity)\n",
    "df = df.drop('Content_up', axis=1)"
   ]
  },
  {
   "cell_type": "code",
   "execution_count": 15,
   "metadata": {},
   "outputs": [
    {
     "output_type": "execute_result",
     "data": {
      "text/plain": [
       "                   Poster                                            Content  \\\n",
       "0               bongsaway  I think many dems, myself included, would be c...   \n",
       "1                 Emily L  I honestly don't understand it, Bong.  I'm a c...   \n",
       "2                  joluot  The GOP are scared of their base, and short te...   \n",
       "3  Checkerboard Strangler  bongsaway saidI think many dems, myself includ...   \n",
       "4                 Tmosler  So I did cast my first vote for presiden for T...   \n",
       "\n",
       "   Thread Gender     Location    Political_leaning  Subjectivity  Polarity  \n",
       "0       1   Male    Flori-duh          Progressive      0.742857  0.114286  \n",
       "1       1    NaN      Bedroom                  NaN      0.439286  0.275000  \n",
       "2       1   Male          NaN          Progressive      0.698148 -0.258333  \n",
       "3       1   Male  Los Angeles                  NaN      0.612925  0.196372  \n",
       "4       1   Male          NaN  Libertarian - Right      0.482345  0.076782  "
      ],
      "text/html": "<div>\n<style scoped>\n    .dataframe tbody tr th:only-of-type {\n        vertical-align: middle;\n    }\n\n    .dataframe tbody tr th {\n        vertical-align: top;\n    }\n\n    .dataframe thead th {\n        text-align: right;\n    }\n</style>\n<table border=\"1\" class=\"dataframe\">\n  <thead>\n    <tr style=\"text-align: right;\">\n      <th></th>\n      <th>Poster</th>\n      <th>Content</th>\n      <th>Thread</th>\n      <th>Gender</th>\n      <th>Location</th>\n      <th>Political_leaning</th>\n      <th>Subjectivity</th>\n      <th>Polarity</th>\n    </tr>\n  </thead>\n  <tbody>\n    <tr>\n      <th>0</th>\n      <td>bongsaway</td>\n      <td>I think many dems, myself included, would be c...</td>\n      <td>1</td>\n      <td>Male</td>\n      <td>Flori-duh</td>\n      <td>Progressive</td>\n      <td>0.742857</td>\n      <td>0.114286</td>\n    </tr>\n    <tr>\n      <th>1</th>\n      <td>Emily L</td>\n      <td>I honestly don't understand it, Bong.  I'm a c...</td>\n      <td>1</td>\n      <td>NaN</td>\n      <td>Bedroom</td>\n      <td>NaN</td>\n      <td>0.439286</td>\n      <td>0.275000</td>\n    </tr>\n    <tr>\n      <th>2</th>\n      <td>joluot</td>\n      <td>The GOP are scared of their base, and short te...</td>\n      <td>1</td>\n      <td>Male</td>\n      <td>NaN</td>\n      <td>Progressive</td>\n      <td>0.698148</td>\n      <td>-0.258333</td>\n    </tr>\n    <tr>\n      <th>3</th>\n      <td>Checkerboard Strangler</td>\n      <td>bongsaway saidI think many dems, myself includ...</td>\n      <td>1</td>\n      <td>Male</td>\n      <td>Los Angeles</td>\n      <td>NaN</td>\n      <td>0.612925</td>\n      <td>0.196372</td>\n    </tr>\n    <tr>\n      <th>4</th>\n      <td>Tmosler</td>\n      <td>So I did cast my first vote for presiden for T...</td>\n      <td>1</td>\n      <td>Male</td>\n      <td>NaN</td>\n      <td>Libertarian - Right</td>\n      <td>0.482345</td>\n      <td>0.076782</td>\n    </tr>\n  </tbody>\n</table>\n</div>"
     },
     "metadata": {},
     "execution_count": 15
    }
   ],
   "source": [
    "df.head()"
   ]
  },
  {
   "cell_type": "code",
   "execution_count": 16,
   "metadata": {},
   "outputs": [],
   "source": [
    "r_f_name = 'Sentiment_Analysis/' + file_name + '_results_thread_' + '.csv'\n",
    "df.to_csv(r_f_name, index = False)"
   ]
  }
 ]
}